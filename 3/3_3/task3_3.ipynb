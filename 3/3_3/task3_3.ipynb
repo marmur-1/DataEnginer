{
 "cells": [
  {
   "cell_type": "markdown",
   "id": "5b9a6e50",
   "metadata": {},
   "source": [
    "Для решения практической части по теме Spark вы можете воспользоваться:\n",
    "1. Возможностями сборки Cloudera quickstart для виртуальной машины – не самый рекомендуемый вариант, т.к. в классической сборке присутствует spark версии 1.2-1.6, которые можно считать устаревшими. Тем не менее, вы можете пойти данным путем и дополнительно обновить версию spark до 2+ в вашей ВМ.\n",
    "2. Установить Spark локально – рекомендуемый способ, т.к. установка spark локально не должна сильно нагрузить вашу ОС. Для помощи можно воспользоваться гайдом:\n",
    "* Part 1 - https://www.youtube.com/watch?v=XvbEADU0IPU\n",
    "* Part 2 - https://www.youtube.com/watch?v=e_QoFQjZwqc\n",
    "3. Установить Spark из образа Docker. Можно, например, воспользоваться ссылкой: https://github.com/cluster-apps-on-docker/spark-standalone-cluster-on-docker"
   ]
  },
  {
   "cell_type": "markdown",
   "id": "c57f11a6",
   "metadata": {},
   "source": [
    "> Мной было выбрано использование Docker контейнера. При этом програмирование в notebook происходид через VS Code с подключением в spark. В качестве ЯП выбран scala"
   ]
  },
  {
   "cell_type": "code",
   "execution_count": 18,
   "id": "dd9012b8",
   "metadata": {},
   "outputs": [
    {
     "data": {
      "text/plain": [
       "\u001b[32mimport \u001b[39m\u001b[36m$ivy.$                                  ;\n",
       "\u001b[39m\n",
       "\u001b[32mimport \u001b[39m\u001b[36morg.apache.log4j.{Level, Logger};\n",
       "\u001b[39m\n",
       "\u001b[32mimport \u001b[39m\u001b[36morg.apache.spark.sql._\n",
       "\u001b[39m\n",
       "\u001b[32mimport \u001b[39m\u001b[36morg.apache.spark.sql.types._\n",
       "\u001b[39m\n",
       "\u001b[32mimport \u001b[39m\u001b[36morg.apache.spark.sql.functions._\n",
       "\u001b[39m\n",
       "\u001b[32mimport \u001b[39m\u001b[36mjava.time._\u001b[39m"
      ]
     },
     "execution_count": 18,
     "metadata": {},
     "output_type": "execute_result"
    }
   ],
   "source": [
    "import $ivy.`org.apache.spark::spark-sql:3.0.0`;\n",
    "import org.apache.log4j.{Level, Logger};\n",
    "Logger.getLogger(\"org\").setLevel(Level.OFF);\n",
    "import org.apache.spark.sql._\n",
    "import org.apache.spark.sql.types._\n",
    "import org.apache.spark.sql.functions._\n",
    "import java.time._"
   ]
  },
  {
   "cell_type": "code",
   "execution_count": 19,
   "id": "72bc59d1",
   "metadata": {},
   "outputs": [
    {
     "data": {
      "text/plain": [
       "\u001b[36mspark\u001b[39m: \u001b[32mSparkSession\u001b[39m = org.apache.spark.sql.SparkSession@3efab6ab"
      ]
     },
     "execution_count": 19,
     "metadata": {},
     "output_type": "execute_result"
    }
   ],
   "source": [
    "val spark = SparkSession.\n",
    "    builder().\n",
    "    appName(\"scala-spark-notebook\").\n",
    "    master(\"spark://spark-master:7077\").\n",
    "    config(\"spark.executor.memory\", \"512m\").\n",
    "    getOrCreate()\n"
   ]
  },
  {
   "cell_type": "markdown",
   "id": "fca3979b",
   "metadata": {},
   "source": [
    "a.       Создайте схему будущего фрейма данных. Схема должна включать следующие атрибуты:\n",
    "*   ```id``` -  уникальный идентификатор посетителя сайта. Тип – последовательность чисел фиксированной длины. Данное поле не является первичным ключом.\n",
    "*   ```timestamp``` – дата и время события в формате unix timestamp.\n",
    "*   ```type``` – тип события, значение из списка (факт посещения(visit), клик по визуальному элементу страницы(click), скролл(scroll), перед на другую страницу(move)).\n",
    "*   ```page_id``` – id текущей страницы. Тип - последовательность чисел фиксированной длины.\n",
    "*   ```tag``` – каждая страница с новостью размечается редакцией специальными тегами, которые отражают тематику конкретной новости со страницы. Возможный список тематик: политика, спорт, медицина и т.д.\n",
    "*   ```sign``` – наличие у пользователя личного кабинета. Значения – True/False."
   ]
  },
  {
   "cell_type": "code",
   "execution_count": 20,
   "id": "5878d10a",
   "metadata": {},
   "outputs": [
    {
     "data": {
      "text/plain": [
       "\u001b[36mschema\u001b[39m: \u001b[32mStructType\u001b[39m = \u001b[33mStructType\u001b[39m(\n",
       "  \u001b[33mStructField\u001b[39m(\u001b[32m\"id\"\u001b[39m, IntegerType, true, {}),\n",
       "  \u001b[33mStructField\u001b[39m(\u001b[32m\"timestamp\"\u001b[39m, StringType, true, {}),\n",
       "  \u001b[33mStructField\u001b[39m(\u001b[32m\"type\"\u001b[39m, StringType, true, {}),\n",
       "  \u001b[33mStructField\u001b[39m(\u001b[32m\"page_id\"\u001b[39m, IntegerType, true, {}),\n",
       "  \u001b[33mStructField\u001b[39m(\u001b[32m\"tag\"\u001b[39m, StringType, true, {}),\n",
       "  \u001b[33mStructField\u001b[39m(\u001b[32m\"sign\"\u001b[39m, BooleanType, true, {})\n",
       ")"
      ]
     },
     "execution_count": 20,
     "metadata": {},
     "output_type": "execute_result"
    }
   ],
   "source": [
    "val schema = new StructType()\n",
    "    .add(\"id\", IntegerType)\n",
    "    .add(\"timestamp\", StringType)\n",
    "    .add(\"type\", StringType)\n",
    "    .add(\"page_id\", IntegerType)\n",
    "    .add(\"tag\", StringType)\n",
    "    .add(\"sign\", BooleanType)"
   ]
  },
  {
   "cell_type": "markdown",
   "id": "dc49d24b",
   "metadata": {},
   "source": [
    "b.       Создайте датафрейм с описанной выше схемой данных.\n",
    "\n",
    "c.       Наполните датафрейм данными. Пример:\n",
    "\n",
    "```(12345, 1667627426, \"click\", 101, \"Sport”, False)```"
   ]
  },
  {
   "cell_type": "markdown",
   "id": "7586758e",
   "metadata": {},
   "source": [
    "> Я искал как можно было превратить время в миллисекундах в timestamp но так и не нашёл. Везде видел примеры обратного как из timestamp выводят время в миллисекундах. После проверки прошу подсказать как это сделать правильно."
   ]
  },
  {
   "cell_type": "code",
   "execution_count": 21,
   "id": "1fe826ac",
   "metadata": {},
   "outputs": [
    {
     "name": "stdout",
     "output_type": "stream",
     "text": [
      "root\n",
      " |-- id: integer (nullable = true)\n",
      " |-- timestamp: timestamp (nullable = true)\n",
      " |-- type: string (nullable = true)\n",
      " |-- page_id: integer (nullable = true)\n",
      " |-- tag: string (nullable = true)\n",
      " |-- sign: boolean (nullable = true)\n",
      "\n",
      "+-----+-------------------+------+-------+-----+-----+\n",
      "|   id|          timestamp|  type|page_id|  tag| sign|\n",
      "+-----+-------------------+------+-------+-----+-----+\n",
      "|12345|2019-07-01 12:01:19|  move|    101|Sport|false|\n",
      "|12346|2019-07-01 13:02:19| visit|    102|Sport| true|\n",
      "|12347|2019-07-01 14:05:19|scroll|    103|Sport| true|\n",
      "|12348|2019-07-01 11:01:19| click|    104|  Med|false|\n",
      "|12348|2019-07-01 13:51:19|  move|    104|  Med|false|\n",
      "|12349|2019-07-01 12:01:19| click|    105|  Med| true|\n",
      "|12350|2019-07-01 14:21:19|scroll|    106|  Med|false|\n",
      "|12351|2019-07-01 15:01:19|  move|    107|  Med|false|\n",
      "|12347|2019-07-01 16:43:19|scroll|    103|Sport| true|\n",
      "|12347|2019-07-01 14:43:19|scroll|    103|Sport| true|\n",
      "|12347|2019-07-01 15:56:19|  move|    103|Sport| true|\n",
      "|12347|2019-07-01 13:03:19| click|    103|Sport| true|\n",
      "+-----+-------------------+------+-------+-----+-----+\n",
      "\n"
     ]
    },
    {
     "data": {
      "text/plain": [
       "\u001b[36mdata\u001b[39m: \u001b[32mSeq\u001b[39m[\u001b[32mRow\u001b[39m] = \u001b[33mList\u001b[39m(\n",
       "  [12345,2019-07-01 12:01:19.000,move,101,Sport,false],\n",
       "  [12346,2019-07-01 13:02:19.000,visit,102,Sport,true],\n",
       "  [12347,2019-07-01 14:05:19.000,scroll,103,Sport,true],\n",
       "  [12348,2019-07-01 11:01:19.000,click,104,Med,false],\n",
       "  [12348,2019-07-01 13:51:19.000,move,104,Med,false],\n",
       "  [12349,2019-07-01 12:01:19.000,click,105,Med,true],\n",
       "  [12350,2019-07-01 14:21:19.000,scroll,106,Med,false],\n",
       "  [12351,2019-07-01 15:01:19.000,move,107,Med,false],\n",
       "  [12347,2019-07-01 16:43:19.000,scroll,103,Sport,true],\n",
       "  [12347,2019-07-01 14:43:19.000,scroll,103,Sport,true],\n",
       "  [12347,2019-07-01 15:56:19.000,move,103,Sport,true],\n",
       "  [12347,2019-07-01 13:03:19.000,click,103,Sport,true]\n",
       ")\n",
       "\u001b[36mdf\u001b[39m: \u001b[32mDataFrame\u001b[39m = [id: int, timestamp: timestamp ... 4 more fields]"
      ]
     },
     "execution_count": 21,
     "metadata": {},
     "output_type": "execute_result"
    }
   ],
   "source": [
    "val data = Seq(\n",
    "    Row(12345, \"2019-07-01 12:01:19.000\", \"move\", 101, \"Sport\", false),\n",
    "    Row(12346, \"2019-07-01 13:02:19.000\", \"visit\", 102, \"Sport\", true),\n",
    "    Row(12347, \"2019-07-01 14:05:19.000\", \"scroll\", 103, \"Sport\", true),\n",
    "    Row(12348, \"2019-07-01 11:01:19.000\", \"click\", 104, \"Med\", false),\n",
    "    Row(12348, \"2019-07-01 13:51:19.000\", \"move\", 104, \"Med\", false),\n",
    "    Row(12349, \"2019-07-01 12:01:19.000\", \"click\", 105, \"Med\", true),\n",
    "    Row(12350, \"2019-07-01 14:21:19.000\", \"scroll\", 106, \"Med\", false),\n",
    "    Row(12351, \"2019-07-01 15:01:19.000\", \"move\", 107, \"Med\", false),\n",
    "    Row(12347, \"2019-07-01 16:43:19.000\", \"scroll\", 103, \"Sport\", true),\n",
    "    Row(12347, \"2019-07-01 14:43:19.000\", \"scroll\", 103, \"Sport\", true),\n",
    "    Row(12347, \"2019-07-01 15:56:19.000\", \"move\", 103, \"Sport\", true),\n",
    "    Row(12347, \"2019-07-01 13:03:19.000\", \"click\", 103, \"Sport\", true)\n",
    ")\n",
    "\n",
    "val df = spark.createDataFrame(spark.sparkContext.parallelize(data),schema)\n",
    "    .withColumn(\"timestamp\", to_timestamp(col(\"timestamp\")))\n",
    "\n",
    "df.printSchema()\n",
    "df.show()"
   ]
  },
  {
   "cell_type": "markdown",
   "id": "b6d83b80",
   "metadata": {},
   "source": [
    "d.       Решите следующие задачи:\n",
    "*   Вывести топ-5 самых активных посетителей сайта"
   ]
  },
  {
   "cell_type": "code",
   "execution_count": 22,
   "id": "01ef6779",
   "metadata": {},
   "outputs": [
    {
     "name": "stdout",
     "output_type": "stream",
     "text": [
      "+-----+-----+\n",
      "|   id|count|\n",
      "+-----+-----+\n",
      "|12347|    5|\n",
      "|12348|    2|\n",
      "|12350|    1|\n",
      "|12351|    1|\n",
      "|12349|    1|\n",
      "+-----+-----+\n",
      "\n"
     ]
    }
   ],
   "source": [
    "df.groupBy(\"id\")\n",
    "    .count()\n",
    "    .orderBy(col(\"count\").desc)\n",
    "    .limit(5)\n",
    "    .show()"
   ]
  },
  {
   "cell_type": "markdown",
   "id": "fdacd199",
   "metadata": {},
   "source": [
    "*   Посчитать процент посетителей, у которых есть ЛК\n"
   ]
  },
  {
   "cell_type": "code",
   "execution_count": 23,
   "id": "8bc51fbd",
   "metadata": {},
   "outputs": [
    {
     "name": "stdout",
     "output_type": "stream",
     "text": [
      "+-----+-----+------------------+\n",
      "| sign|count|           percent|\n",
      "+-----+-----+------------------+\n",
      "| true|    7|58.333333333333336|\n",
      "|false|    5| 41.66666666666667|\n",
      "+-----+-----+------------------+\n",
      "\n"
     ]
    }
   ],
   "source": [
    "df.groupBy(\"sign\")\n",
    "    .count()\n",
    "    .withColumn(\"percent\", (col(\"count\") / (df.count / 100.0)))\n",
    "    .show()"
   ]
  },
  {
   "cell_type": "markdown",
   "id": "1cbe60c7",
   "metadata": {},
   "source": [
    "*   Вывести топ-5 страниц сайта по показателю общего кол-ва кликов на данной странице\n"
   ]
  },
  {
   "cell_type": "code",
   "execution_count": 24,
   "id": "5a83ec2a",
   "metadata": {},
   "outputs": [
    {
     "name": "stdout",
     "output_type": "stream",
     "text": [
      "+-------+-----+\n",
      "|page_id|count|\n",
      "+-------+-----+\n",
      "|    105|    1|\n",
      "|    104|    1|\n",
      "|    103|    1|\n",
      "+-------+-----+\n",
      "\n"
     ]
    }
   ],
   "source": [
    "df.filter(df(\"type\")===\"click\")\n",
    "    .groupBy(\"page_id\")\n",
    "    .count()\n",
    "    .orderBy(col(\"count\").desc)\n",
    "    .limit(5)\n",
    "    .show()"
   ]
  },
  {
   "cell_type": "markdown",
   "id": "de5382e1",
   "metadata": {},
   "source": [
    "*   Добавьте столбец к фрейму данных со значением временного диапазона в рамках суток с размером окна – 4 часа(0-4, 4-8, 8-12 и т.д.)\n"
   ]
  },
  {
   "cell_type": "code",
   "execution_count": 25,
   "id": "72db4441",
   "metadata": {},
   "outputs": [
    {
     "name": "stdout",
     "output_type": "stream",
     "text": [
      "+-----+-------------------+------+-------+-----+-----+-----+\n",
      "|   id|          timestamp|  type|page_id|  tag| sign| hour|\n",
      "+-----+-------------------+------+-------+-----+-----+-----+\n",
      "|12345|2019-07-01 12:01:19|  move|    101|Sport|false|12-16|\n",
      "|12346|2019-07-01 13:02:19| visit|    102|Sport| true|12-16|\n",
      "|12347|2019-07-01 14:05:19|scroll|    103|Sport| true|12-16|\n",
      "|12348|2019-07-01 11:01:19| click|    104|  Med|false| 8-12|\n",
      "|12348|2019-07-01 13:51:19|  move|    104|  Med|false|12-16|\n",
      "|12349|2019-07-01 12:01:19| click|    105|  Med| true|12-16|\n",
      "|12350|2019-07-01 14:21:19|scroll|    106|  Med|false|12-16|\n",
      "|12351|2019-07-01 15:01:19|  move|    107|  Med|false|12-16|\n",
      "|12347|2019-07-01 16:43:19|scroll|    103|Sport| true|16-20|\n",
      "|12347|2019-07-01 14:43:19|scroll|    103|Sport| true|12-16|\n",
      "|12347|2019-07-01 15:56:19|  move|    103|Sport| true|12-16|\n",
      "|12347|2019-07-01 13:03:19| click|    103|Sport| true|12-16|\n",
      "+-----+-------------------+------+-------+-----+-----+-----+\n",
      "\n"
     ]
    }
   ],
   "source": [
    "df  \n",
    "    .withColumn(\"hour\", hour(col(\"timestamp\")))\n",
    "    .withColumn(\"hour\",\n",
    "        when(col(\"hour\")>=0 && col(\"hour\")<4,\"0-4\")\n",
    "        .when(col(\"hour\")>=4 && col(\"hour\")<8,\"4-8\")\n",
    "        .when(col(\"hour\")>=8 && col(\"hour\")<12,\"8-12\")\n",
    "        .when(col(\"hour\")>=12 && col(\"hour\")<16,\"12-16\")\n",
    "        .when(col(\"hour\")>=16 && col(\"hour\")<20,\"16-20\")\n",
    "        .when(col(\"hour\")>=20 && col(\"hour\")<24,\"20-24\")\n",
    "    )\n",
    "    .show()"
   ]
  },
  {
   "cell_type": "markdown",
   "id": "fafe8a58",
   "metadata": {},
   "source": [
    "*   Выведите временной промежуток на основе предыдущего задания, в течение которого было больше всего активностей на сайте.\n"
   ]
  },
  {
   "cell_type": "code",
   "execution_count": 26,
   "id": "6bb89ed2",
   "metadata": {},
   "outputs": [
    {
     "name": "stdout",
     "output_type": "stream",
     "text": [
      "+-----+-----+\n",
      "| hour|count|\n",
      "+-----+-----+\n",
      "|12-16|   10|\n",
      "+-----+-----+\n",
      "\n"
     ]
    }
   ],
   "source": [
    "df  \n",
    "    .withColumn(\"hour\", hour(col(\"timestamp\")))\n",
    "    .withColumn(\"hour\",\n",
    "        when(col(\"hour\")>=0 && col(\"hour\")<4,\"0-4\")\n",
    "        .when(col(\"hour\")>=4 && col(\"hour\")<8,\"4-8\")\n",
    "        .when(col(\"hour\")>=8 && col(\"hour\")<12,\"8-12\")\n",
    "        .when(col(\"hour\")>=12 && col(\"hour\")<16,\"12-16\")\n",
    "        .when(col(\"hour\")>=16 && col(\"hour\")<20,\"16-20\")\n",
    "        .when(col(\"hour\")>=20 && col(\"hour\")<24,\"20-24\")\n",
    "    )\n",
    "    .groupBy(\"hour\")\n",
    "    .count()\n",
    "    .orderBy(col(\"count\").desc)\n",
    "    .limit(1)\n",
    "    .show()"
   ]
  },
  {
   "cell_type": "markdown",
   "id": "1dee437d",
   "metadata": {},
   "source": [
    "*   Создайте второй фрейм данных, который будет содержать информацию о ЛК посетителя сайта со следующим списком атрибутов\n",
    "1.      Id – уникальный идентификатор личного кабинета\n",
    "2.      User_id – уникальный идентификатор посетителя\n",
    "3.      ФИО посетителя\n",
    "4.      Дата создания ЛК\n"
   ]
  },
  {
   "cell_type": "code",
   "execution_count": 27,
   "id": "c7ee1e65",
   "metadata": {},
   "outputs": [
    {
     "name": "stdout",
     "output_type": "stream",
     "text": [
      "root\n",
      " |-- id: integer (nullable = true)\n",
      " |-- user_id: integer (nullable = true)\n",
      " |-- fio: string (nullable = true)\n",
      " |-- date_create: timestamp (nullable = true)\n",
      "\n",
      "+---+-------+--------------------+-------------------+\n",
      "| id|user_id|                 fio|        date_create|\n",
      "+---+-------+--------------------+-------------------+\n",
      "|  2|  12346|Иван Иванович Иванов|2019-07-01 13:02:19|\n",
      "|  3|  12347|Александр Алексан...|2019-07-01 14:05:19|\n",
      "|  5|  12349|Глеб Глебович Глебов|2019-07-01 12:01:19|\n",
      "+---+-------+--------------------+-------------------+\n",
      "\n"
     ]
    },
    {
     "data": {
      "text/plain": [
       "\u001b[36mschema2\u001b[39m: \u001b[32mStructType\u001b[39m = \u001b[33mStructType\u001b[39m(\n",
       "  \u001b[33mStructField\u001b[39m(\u001b[32m\"id\"\u001b[39m, IntegerType, true, {}),\n",
       "  \u001b[33mStructField\u001b[39m(\u001b[32m\"user_id\"\u001b[39m, IntegerType, true, {}),\n",
       "  \u001b[33mStructField\u001b[39m(\u001b[32m\"fio\"\u001b[39m, StringType, true, {}),\n",
       "  \u001b[33mStructField\u001b[39m(\u001b[32m\"date_create\"\u001b[39m, StringType, true, {})\n",
       ")\n",
       "\u001b[36mdata2\u001b[39m: \u001b[32mSeq\u001b[39m[\u001b[32mRow\u001b[39m] = \u001b[33mList\u001b[39m(\n",
       "  [2,12346,Иван Иванович Иванов,2019-07-01 13:02:19.000],\n",
       "  [3,12347,Александр Александроваич Александров,2019-07-01 14:05:19.000],\n",
       "  [5,12349,Глеб Глебович Глебов,2019-07-01 12:01:19.000,click]\n",
       ")\n",
       "\u001b[36mdf2\u001b[39m: \u001b[32mDataFrame\u001b[39m = [id: int, user_id: int ... 2 more fields]"
      ]
     },
     "execution_count": 27,
     "metadata": {},
     "output_type": "execute_result"
    }
   ],
   "source": [
    "val schema2 = new StructType()\n",
    "    .add(\"id\", IntegerType)\n",
    "    .add(\"user_id\", IntegerType)\n",
    "    .add(\"fio\", StringType)\n",
    "    .add(\"date_create\", StringType)\n",
    "\n",
    "val data2 = Seq(\n",
    "    Row(2, 12346, \"Иван Иванович Иванов\", \"2019-07-01 13:02:19.000\"),\n",
    "    Row(3, 12347, \"Александр Александроваич Александров\", \"2019-07-01 14:05:19.000\"),\n",
    "    Row(5, 12349, \"Глеб Глебович Глебов\",\"2019-07-01 12:01:19.000\", \"click\")\n",
    ")\n",
    "\n",
    "val df2 = spark.createDataFrame(spark.sparkContext.parallelize(data2),schema2)\n",
    "    .withColumn(\"date_create\", to_timestamp(col(\"date_create\")))\n",
    "\n",
    "df2.printSchema()\n",
    "df2.show()"
   ]
  },
  {
   "cell_type": "markdown",
   "id": "6c91dc44",
   "metadata": {},
   "source": [
    "*   Вывести фамилии посетителей, которые читали хотя бы одну новость про спорт."
   ]
  },
  {
   "cell_type": "code",
   "execution_count": 28,
   "id": "2daf63cb",
   "metadata": {},
   "outputs": [
    {
     "name": "stdout",
     "output_type": "stream",
     "text": [
      "+--------------------+-----+\n",
      "|                 fio|count|\n",
      "+--------------------+-----+\n",
      "|Александр Алексан...|    5|\n",
      "|                null|    1|\n",
      "|Иван Иванович Иванов|    1|\n",
      "+--------------------+-----+\n",
      "\n"
     ]
    }
   ],
   "source": [
    "df.join(df2, df(\"id\") === df2(\"user_id\"),\"left\")\n",
    ".filter(df(\"tag\")===\"Sport\")\n",
    ".groupBy(\"fio\")\n",
    ".count()\n",
    ".show()"
   ]
  }
 ],
 "metadata": {
  "kernelspec": {
   "display_name": "Scala 2.12.10",
   "language": "scala",
   "name": "scala"
  },
  "language_info": {
   "codemirror_mode": "text/x-scala",
   "file_extension": ".sc",
   "mimetype": "text/x-scala",
   "name": "scala",
   "nbconvert_exporter": "script",
   "version": "2.12.10"
  }
 },
 "nbformat": 4,
 "nbformat_minor": 5
}
